{
 "cells": [
  {
   "attachments": {},
   "cell_type": "markdown",
   "metadata": {},
   "source": [
    "# Predicting The NBA MVP"
   ]
  },
  {
   "attachments": {},
   "cell_type": "markdown",
   "metadata": {},
   "source": [
    "The file i'm working with has information of each NBA player from 1991-2022.\n",
    "\n",
    "I will try to predict the share value - the percentage of votes the player got using machine learning.\n",
    "\n",
    "The player with the biggest share - won the MVP."
   ]
  },
  {
   "cell_type": "code",
   "execution_count": 1,
   "metadata": {},
   "outputs": [],
   "source": [
    "import pandas as pd\n",
    "\n",
    "# Ridge regression is a form of linear regression that is designed to avoid overfitting\n",
    "from sklearn.linear_model import Ridge\n",
    "from sklearn.metrics import mean_squared_error\n",
    "from sklearn.ensemble import RandomForestRegressor"
   ]
  },
  {
   "cell_type": "code",
   "execution_count": 2,
   "metadata": {},
   "outputs": [
    {
     "data": {
      "text/html": [
       "<div>\n",
       "<style scoped>\n",
       "    .dataframe tbody tr th:only-of-type {\n",
       "        vertical-align: middle;\n",
       "    }\n",
       "\n",
       "    .dataframe tbody tr th {\n",
       "        vertical-align: top;\n",
       "    }\n",
       "\n",
       "    .dataframe thead th {\n",
       "        text-align: right;\n",
       "    }\n",
       "</style>\n",
       "<table border=\"1\" class=\"dataframe\">\n",
       "  <thead>\n",
       "    <tr style=\"text-align: right;\">\n",
       "      <th></th>\n",
       "      <th>Unnamed: 0</th>\n",
       "      <th>Player</th>\n",
       "      <th>Pos</th>\n",
       "      <th>Age</th>\n",
       "      <th>Tm</th>\n",
       "      <th>G</th>\n",
       "      <th>GS</th>\n",
       "      <th>MP</th>\n",
       "      <th>FG</th>\n",
       "      <th>FGA</th>\n",
       "      <th>...</th>\n",
       "      <th>Share</th>\n",
       "      <th>Team</th>\n",
       "      <th>W</th>\n",
       "      <th>L</th>\n",
       "      <th>W/L%</th>\n",
       "      <th>GB</th>\n",
       "      <th>PS/G</th>\n",
       "      <th>PA/G</th>\n",
       "      <th>SRS</th>\n",
       "      <th>Conference</th>\n",
       "    </tr>\n",
       "  </thead>\n",
       "  <tbody>\n",
       "    <tr>\n",
       "      <th>0</th>\n",
       "      <td>0</td>\n",
       "      <td>A.C. Green</td>\n",
       "      <td>PF</td>\n",
       "      <td>27</td>\n",
       "      <td>LAL</td>\n",
       "      <td>82</td>\n",
       "      <td>21</td>\n",
       "      <td>26.4</td>\n",
       "      <td>3.1</td>\n",
       "      <td>6.6</td>\n",
       "      <td>...</td>\n",
       "      <td>0.0</td>\n",
       "      <td>Los Angeles Lakers</td>\n",
       "      <td>58</td>\n",
       "      <td>24</td>\n",
       "      <td>0.707</td>\n",
       "      <td>5.0</td>\n",
       "      <td>106.3</td>\n",
       "      <td>99.6</td>\n",
       "      <td>6.73</td>\n",
       "      <td>West</td>\n",
       "    </tr>\n",
       "    <tr>\n",
       "      <th>1</th>\n",
       "      <td>1</td>\n",
       "      <td>Byron Scott</td>\n",
       "      <td>SG</td>\n",
       "      <td>29</td>\n",
       "      <td>LAL</td>\n",
       "      <td>82</td>\n",
       "      <td>82</td>\n",
       "      <td>32.1</td>\n",
       "      <td>6.1</td>\n",
       "      <td>12.8</td>\n",
       "      <td>...</td>\n",
       "      <td>0.0</td>\n",
       "      <td>Los Angeles Lakers</td>\n",
       "      <td>58</td>\n",
       "      <td>24</td>\n",
       "      <td>0.707</td>\n",
       "      <td>5.0</td>\n",
       "      <td>106.3</td>\n",
       "      <td>99.6</td>\n",
       "      <td>6.73</td>\n",
       "      <td>West</td>\n",
       "    </tr>\n",
       "    <tr>\n",
       "      <th>2</th>\n",
       "      <td>2</td>\n",
       "      <td>Elden Campbell</td>\n",
       "      <td>PF</td>\n",
       "      <td>22</td>\n",
       "      <td>LAL</td>\n",
       "      <td>52</td>\n",
       "      <td>0</td>\n",
       "      <td>7.3</td>\n",
       "      <td>1.1</td>\n",
       "      <td>2.4</td>\n",
       "      <td>...</td>\n",
       "      <td>0.0</td>\n",
       "      <td>Los Angeles Lakers</td>\n",
       "      <td>58</td>\n",
       "      <td>24</td>\n",
       "      <td>0.707</td>\n",
       "      <td>5.0</td>\n",
       "      <td>106.3</td>\n",
       "      <td>99.6</td>\n",
       "      <td>6.73</td>\n",
       "      <td>West</td>\n",
       "    </tr>\n",
       "    <tr>\n",
       "      <th>3</th>\n",
       "      <td>3</td>\n",
       "      <td>Irving Thomas</td>\n",
       "      <td>PF</td>\n",
       "      <td>25</td>\n",
       "      <td>LAL</td>\n",
       "      <td>26</td>\n",
       "      <td>0</td>\n",
       "      <td>4.2</td>\n",
       "      <td>0.7</td>\n",
       "      <td>1.9</td>\n",
       "      <td>...</td>\n",
       "      <td>0.0</td>\n",
       "      <td>Los Angeles Lakers</td>\n",
       "      <td>58</td>\n",
       "      <td>24</td>\n",
       "      <td>0.707</td>\n",
       "      <td>5.0</td>\n",
       "      <td>106.3</td>\n",
       "      <td>99.6</td>\n",
       "      <td>6.73</td>\n",
       "      <td>West</td>\n",
       "    </tr>\n",
       "    <tr>\n",
       "      <th>4</th>\n",
       "      <td>4</td>\n",
       "      <td>James Worthy</td>\n",
       "      <td>SF</td>\n",
       "      <td>29</td>\n",
       "      <td>LAL</td>\n",
       "      <td>78</td>\n",
       "      <td>74</td>\n",
       "      <td>38.6</td>\n",
       "      <td>9.2</td>\n",
       "      <td>18.7</td>\n",
       "      <td>...</td>\n",
       "      <td>0.0</td>\n",
       "      <td>Los Angeles Lakers</td>\n",
       "      <td>58</td>\n",
       "      <td>24</td>\n",
       "      <td>0.707</td>\n",
       "      <td>5.0</td>\n",
       "      <td>106.3</td>\n",
       "      <td>99.6</td>\n",
       "      <td>6.73</td>\n",
       "      <td>West</td>\n",
       "    </tr>\n",
       "    <tr>\n",
       "      <th>...</th>\n",
       "      <td>...</td>\n",
       "      <td>...</td>\n",
       "      <td>...</td>\n",
       "      <td>...</td>\n",
       "      <td>...</td>\n",
       "      <td>...</td>\n",
       "      <td>...</td>\n",
       "      <td>...</td>\n",
       "      <td>...</td>\n",
       "      <td>...</td>\n",
       "      <td>...</td>\n",
       "      <td>...</td>\n",
       "      <td>...</td>\n",
       "      <td>...</td>\n",
       "      <td>...</td>\n",
       "      <td>...</td>\n",
       "      <td>...</td>\n",
       "      <td>...</td>\n",
       "      <td>...</td>\n",
       "      <td>...</td>\n",
       "      <td>...</td>\n",
       "    </tr>\n",
       "    <tr>\n",
       "      <th>14692</th>\n",
       "      <td>14692</td>\n",
       "      <td>Spencer Hawes</td>\n",
       "      <td>PF</td>\n",
       "      <td>28</td>\n",
       "      <td>MIL</td>\n",
       "      <td>54</td>\n",
       "      <td>1</td>\n",
       "      <td>14.8</td>\n",
       "      <td>2.5</td>\n",
       "      <td>5.1</td>\n",
       "      <td>...</td>\n",
       "      <td>0.0</td>\n",
       "      <td>Milwaukee Bucks</td>\n",
       "      <td>42</td>\n",
       "      <td>40</td>\n",
       "      <td>0.512</td>\n",
       "      <td>9.0</td>\n",
       "      <td>103.6</td>\n",
       "      <td>103.8</td>\n",
       "      <td>-0.45</td>\n",
       "      <td>East</td>\n",
       "    </tr>\n",
       "    <tr>\n",
       "      <th>14693</th>\n",
       "      <td>14693</td>\n",
       "      <td>Steve Novak</td>\n",
       "      <td>PF</td>\n",
       "      <td>33</td>\n",
       "      <td>MIL</td>\n",
       "      <td>8</td>\n",
       "      <td>0</td>\n",
       "      <td>2.8</td>\n",
       "      <td>0.3</td>\n",
       "      <td>0.9</td>\n",
       "      <td>...</td>\n",
       "      <td>0.0</td>\n",
       "      <td>Milwaukee Bucks</td>\n",
       "      <td>42</td>\n",
       "      <td>40</td>\n",
       "      <td>0.512</td>\n",
       "      <td>9.0</td>\n",
       "      <td>103.6</td>\n",
       "      <td>103.8</td>\n",
       "      <td>-0.45</td>\n",
       "      <td>East</td>\n",
       "    </tr>\n",
       "    <tr>\n",
       "      <th>14694</th>\n",
       "      <td>14694</td>\n",
       "      <td>Terrence Jones</td>\n",
       "      <td>PF</td>\n",
       "      <td>25</td>\n",
       "      <td>MIL</td>\n",
       "      <td>54</td>\n",
       "      <td>12</td>\n",
       "      <td>23.5</td>\n",
       "      <td>4.3</td>\n",
       "      <td>9.1</td>\n",
       "      <td>...</td>\n",
       "      <td>0.0</td>\n",
       "      <td>Milwaukee Bucks</td>\n",
       "      <td>42</td>\n",
       "      <td>40</td>\n",
       "      <td>0.512</td>\n",
       "      <td>9.0</td>\n",
       "      <td>103.6</td>\n",
       "      <td>103.8</td>\n",
       "      <td>-0.45</td>\n",
       "      <td>East</td>\n",
       "    </tr>\n",
       "    <tr>\n",
       "      <th>14695</th>\n",
       "      <td>14695</td>\n",
       "      <td>Thon Maker</td>\n",
       "      <td>C</td>\n",
       "      <td>19</td>\n",
       "      <td>MIL</td>\n",
       "      <td>57</td>\n",
       "      <td>34</td>\n",
       "      <td>9.9</td>\n",
       "      <td>1.5</td>\n",
       "      <td>3.2</td>\n",
       "      <td>...</td>\n",
       "      <td>0.0</td>\n",
       "      <td>Milwaukee Bucks</td>\n",
       "      <td>42</td>\n",
       "      <td>40</td>\n",
       "      <td>0.512</td>\n",
       "      <td>9.0</td>\n",
       "      <td>103.6</td>\n",
       "      <td>103.8</td>\n",
       "      <td>-0.45</td>\n",
       "      <td>East</td>\n",
       "    </tr>\n",
       "    <tr>\n",
       "      <th>14696</th>\n",
       "      <td>14696</td>\n",
       "      <td>Tony Snell</td>\n",
       "      <td>SG</td>\n",
       "      <td>25</td>\n",
       "      <td>MIL</td>\n",
       "      <td>80</td>\n",
       "      <td>80</td>\n",
       "      <td>29.2</td>\n",
       "      <td>3.1</td>\n",
       "      <td>6.8</td>\n",
       "      <td>...</td>\n",
       "      <td>0.0</td>\n",
       "      <td>Milwaukee Bucks</td>\n",
       "      <td>42</td>\n",
       "      <td>40</td>\n",
       "      <td>0.512</td>\n",
       "      <td>9.0</td>\n",
       "      <td>103.6</td>\n",
       "      <td>103.8</td>\n",
       "      <td>-0.45</td>\n",
       "      <td>East</td>\n",
       "    </tr>\n",
       "  </tbody>\n",
       "</table>\n",
       "<p>14697 rows × 43 columns</p>\n",
       "</div>"
      ],
      "text/plain": [
       "       Unnamed: 0          Player Pos  Age   Tm   G  GS    MP   FG   FGA  ...  \\\n",
       "0               0      A.C. Green  PF   27  LAL  82  21  26.4  3.1   6.6  ...   \n",
       "1               1     Byron Scott  SG   29  LAL  82  82  32.1  6.1  12.8  ...   \n",
       "2               2  Elden Campbell  PF   22  LAL  52   0   7.3  1.1   2.4  ...   \n",
       "3               3   Irving Thomas  PF   25  LAL  26   0   4.2  0.7   1.9  ...   \n",
       "4               4    James Worthy  SF   29  LAL  78  74  38.6  9.2  18.7  ...   \n",
       "...           ...             ...  ..  ...  ...  ..  ..   ...  ...   ...  ...   \n",
       "14692       14692   Spencer Hawes  PF   28  MIL  54   1  14.8  2.5   5.1  ...   \n",
       "14693       14693     Steve Novak  PF   33  MIL   8   0   2.8  0.3   0.9  ...   \n",
       "14694       14694  Terrence Jones  PF   25  MIL  54  12  23.5  4.3   9.1  ...   \n",
       "14695       14695      Thon Maker   C   19  MIL  57  34   9.9  1.5   3.2  ...   \n",
       "14696       14696      Tony Snell  SG   25  MIL  80  80  29.2  3.1   6.8  ...   \n",
       "\n",
       "       Share                Team   W   L   W/L%   GB   PS/G   PA/G   SRS  \\\n",
       "0        0.0  Los Angeles Lakers  58  24  0.707  5.0  106.3   99.6  6.73   \n",
       "1        0.0  Los Angeles Lakers  58  24  0.707  5.0  106.3   99.6  6.73   \n",
       "2        0.0  Los Angeles Lakers  58  24  0.707  5.0  106.3   99.6  6.73   \n",
       "3        0.0  Los Angeles Lakers  58  24  0.707  5.0  106.3   99.6  6.73   \n",
       "4        0.0  Los Angeles Lakers  58  24  0.707  5.0  106.3   99.6  6.73   \n",
       "...      ...                 ...  ..  ..    ...  ...    ...    ...   ...   \n",
       "14692    0.0     Milwaukee Bucks  42  40  0.512  9.0  103.6  103.8 -0.45   \n",
       "14693    0.0     Milwaukee Bucks  42  40  0.512  9.0  103.6  103.8 -0.45   \n",
       "14694    0.0     Milwaukee Bucks  42  40  0.512  9.0  103.6  103.8 -0.45   \n",
       "14695    0.0     Milwaukee Bucks  42  40  0.512  9.0  103.6  103.8 -0.45   \n",
       "14696    0.0     Milwaukee Bucks  42  40  0.512  9.0  103.6  103.8 -0.45   \n",
       "\n",
       "       Conference  \n",
       "0            West  \n",
       "1            West  \n",
       "2            West  \n",
       "3            West  \n",
       "4            West  \n",
       "...           ...  \n",
       "14692        East  \n",
       "14693        East  \n",
       "14694        East  \n",
       "14695        East  \n",
       "14696        East  \n",
       "\n",
       "[14697 rows x 43 columns]"
      ]
     },
     "execution_count": 2,
     "metadata": {},
     "output_type": "execute_result"
    }
   ],
   "source": [
    "stats = pd.read_csv(\"stats.csv\")\n",
    "stats"
   ]
  },
  {
   "attachments": {},
   "cell_type": "markdown",
   "metadata": {},
   "source": [
    "### A Bit of Cleaning"
   ]
  },
  {
   "cell_type": "code",
   "execution_count": 3,
   "metadata": {},
   "outputs": [],
   "source": [
    "stats = stats.drop(columns=['Unnamed: 0'])"
   ]
  },
  {
   "attachments": {},
   "cell_type": "markdown",
   "metadata": {},
   "source": [
    "Checking for null values"
   ]
  },
  {
   "cell_type": "code",
   "execution_count": 4,
   "metadata": {},
   "outputs": [
    {
     "data": {
      "text/plain": [
       "Player           0\n",
       "Pos              0\n",
       "Age              0\n",
       "Tm               0\n",
       "G                0\n",
       "GS               0\n",
       "MP               0\n",
       "FG               0\n",
       "FGA              0\n",
       "FG%             59\n",
       "3P               0\n",
       "3PA              0\n",
       "3P%           2086\n",
       "2P               0\n",
       "2PA              0\n",
       "2P%            100\n",
       "eFG%            59\n",
       "FT               0\n",
       "FTA              0\n",
       "FT%            521\n",
       "ORB              0\n",
       "DRB              0\n",
       "TRB              0\n",
       "AST              0\n",
       "STL              0\n",
       "BLK              0\n",
       "TOV              0\n",
       "PF               0\n",
       "PTS              0\n",
       "Year             0\n",
       "Pts Won          0\n",
       "Pts Max          0\n",
       "Share            0\n",
       "Team             0\n",
       "W                0\n",
       "L                0\n",
       "W/L%             0\n",
       "GB               0\n",
       "PS/G             0\n",
       "PA/G             0\n",
       "SRS              0\n",
       "Conference       0\n",
       "dtype: int64"
      ]
     },
     "execution_count": 4,
     "metadata": {},
     "output_type": "execute_result"
    }
   ],
   "source": [
    "pd.isnull(stats).sum()"
   ]
  },
  {
   "attachments": {},
   "cell_type": "markdown",
   "metadata": {},
   "source": [
    "We can see that there are missing values at percentage columns (such as FG% and 3P%),\n",
    "\n",
    "they are calculated by shots made / shots attempted.\n",
    "\n",
    "My assumpsion is that the player with a null value at this field had 0 attempts. Let's check if this is true."
   ]
  },
  {
   "cell_type": "code",
   "execution_count": 5,
   "metadata": {},
   "outputs": [
    {
     "data": {
      "text/html": [
       "<div>\n",
       "<style scoped>\n",
       "    .dataframe tbody tr th:only-of-type {\n",
       "        vertical-align: middle;\n",
       "    }\n",
       "\n",
       "    .dataframe tbody tr th {\n",
       "        vertical-align: top;\n",
       "    }\n",
       "\n",
       "    .dataframe thead th {\n",
       "        text-align: right;\n",
       "    }\n",
       "</style>\n",
       "<table border=\"1\" class=\"dataframe\">\n",
       "  <thead>\n",
       "    <tr style=\"text-align: right;\">\n",
       "      <th></th>\n",
       "      <th>Player</th>\n",
       "      <th>3P</th>\n",
       "      <th>3PA</th>\n",
       "      <th>3P%</th>\n",
       "    </tr>\n",
       "  </thead>\n",
       "  <tbody>\n",
       "    <tr>\n",
       "      <th>2</th>\n",
       "      <td>Elden Campbell</td>\n",
       "      <td>0.0</td>\n",
       "      <td>0.0</td>\n",
       "      <td>NaN</td>\n",
       "    </tr>\n",
       "    <tr>\n",
       "      <th>3</th>\n",
       "      <td>Irving Thomas</td>\n",
       "      <td>0.0</td>\n",
       "      <td>0.0</td>\n",
       "      <td>NaN</td>\n",
       "    </tr>\n",
       "    <tr>\n",
       "      <th>18</th>\n",
       "      <td>Jack Haley</td>\n",
       "      <td>0.0</td>\n",
       "      <td>0.0</td>\n",
       "      <td>NaN</td>\n",
       "    </tr>\n",
       "    <tr>\n",
       "      <th>20</th>\n",
       "      <td>Keith Owens</td>\n",
       "      <td>0.0</td>\n",
       "      <td>0.0</td>\n",
       "      <td>NaN</td>\n",
       "    </tr>\n",
       "    <tr>\n",
       "      <th>30</th>\n",
       "      <td>Benoit Benjamin</td>\n",
       "      <td>0.0</td>\n",
       "      <td>0.0</td>\n",
       "      <td>NaN</td>\n",
       "    </tr>\n",
       "    <tr>\n",
       "      <th>...</th>\n",
       "      <td>...</td>\n",
       "      <td>...</td>\n",
       "      <td>...</td>\n",
       "      <td>...</td>\n",
       "    </tr>\n",
       "    <tr>\n",
       "      <th>14666</th>\n",
       "      <td>Evan Eschmeyer</td>\n",
       "      <td>0.0</td>\n",
       "      <td>0.0</td>\n",
       "      <td>NaN</td>\n",
       "    </tr>\n",
       "    <tr>\n",
       "      <th>14667</th>\n",
       "      <td>Gheorghe Mureșan</td>\n",
       "      <td>0.0</td>\n",
       "      <td>0.0</td>\n",
       "      <td>NaN</td>\n",
       "    </tr>\n",
       "    <tr>\n",
       "      <th>14669</th>\n",
       "      <td>Jim McIlvaine</td>\n",
       "      <td>0.0</td>\n",
       "      <td>0.0</td>\n",
       "      <td>NaN</td>\n",
       "    </tr>\n",
       "    <tr>\n",
       "      <th>14675</th>\n",
       "      <td>Mark Hendrickson</td>\n",
       "      <td>0.0</td>\n",
       "      <td>0.0</td>\n",
       "      <td>NaN</td>\n",
       "    </tr>\n",
       "    <tr>\n",
       "      <th>14676</th>\n",
       "      <td>Michael Cage</td>\n",
       "      <td>0.0</td>\n",
       "      <td>0.0</td>\n",
       "      <td>NaN</td>\n",
       "    </tr>\n",
       "  </tbody>\n",
       "</table>\n",
       "<p>2086 rows × 4 columns</p>\n",
       "</div>"
      ],
      "text/plain": [
       "                 Player   3P  3PA  3P%\n",
       "2        Elden Campbell  0.0  0.0  NaN\n",
       "3         Irving Thomas  0.0  0.0  NaN\n",
       "18           Jack Haley  0.0  0.0  NaN\n",
       "20          Keith Owens  0.0  0.0  NaN\n",
       "30      Benoit Benjamin  0.0  0.0  NaN\n",
       "...                 ...  ...  ...  ...\n",
       "14666    Evan Eschmeyer  0.0  0.0  NaN\n",
       "14667  Gheorghe Mureșan  0.0  0.0  NaN\n",
       "14669     Jim McIlvaine  0.0  0.0  NaN\n",
       "14675  Mark Hendrickson  0.0  0.0  NaN\n",
       "14676      Michael Cage  0.0  0.0  NaN\n",
       "\n",
       "[2086 rows x 4 columns]"
      ]
     },
     "execution_count": 5,
     "metadata": {},
     "output_type": "execute_result"
    }
   ],
   "source": [
    "stats[pd.isnull(stats['3P%'])][['Player','3P','3PA','3P%']]"
   ]
  },
  {
   "cell_type": "code",
   "execution_count": 6,
   "metadata": {},
   "outputs": [
    {
     "data": {
      "text/html": [
       "<div>\n",
       "<style scoped>\n",
       "    .dataframe tbody tr th:only-of-type {\n",
       "        vertical-align: middle;\n",
       "    }\n",
       "\n",
       "    .dataframe tbody tr th {\n",
       "        vertical-align: top;\n",
       "    }\n",
       "\n",
       "    .dataframe thead th {\n",
       "        text-align: right;\n",
       "    }\n",
       "</style>\n",
       "<table border=\"1\" class=\"dataframe\">\n",
       "  <thead>\n",
       "    <tr style=\"text-align: right;\">\n",
       "      <th></th>\n",
       "      <th>Player</th>\n",
       "      <th>FG</th>\n",
       "      <th>FGA</th>\n",
       "      <th>FG%</th>\n",
       "    </tr>\n",
       "  </thead>\n",
       "  <tbody>\n",
       "    <tr>\n",
       "      <th>103</th>\n",
       "      <td>Adrian Caldwell</td>\n",
       "      <td>0.0</td>\n",
       "      <td>0.0</td>\n",
       "      <td>NaN</td>\n",
       "    </tr>\n",
       "    <tr>\n",
       "      <th>250</th>\n",
       "      <td>Guy Rucker</td>\n",
       "      <td>0.0</td>\n",
       "      <td>0.0</td>\n",
       "      <td>NaN</td>\n",
       "    </tr>\n",
       "    <tr>\n",
       "      <th>428</th>\n",
       "      <td>Gani Lawal</td>\n",
       "      <td>0.0</td>\n",
       "      <td>0.0</td>\n",
       "      <td>NaN</td>\n",
       "    </tr>\n",
       "    <tr>\n",
       "      <th>1172</th>\n",
       "      <td>C.J. Miles</td>\n",
       "      <td>0.0</td>\n",
       "      <td>0.0</td>\n",
       "      <td>NaN</td>\n",
       "    </tr>\n",
       "    <tr>\n",
       "      <th>1850</th>\n",
       "      <td>Ade Murkey</td>\n",
       "      <td>0.0</td>\n",
       "      <td>0.0</td>\n",
       "      <td>NaN</td>\n",
       "    </tr>\n",
       "    <tr>\n",
       "      <th>2112</th>\n",
       "      <td>Ronny Turiaf</td>\n",
       "      <td>0.0</td>\n",
       "      <td>0.0</td>\n",
       "      <td>NaN</td>\n",
       "    </tr>\n",
       "    <tr>\n",
       "      <th>2358</th>\n",
       "      <td>DeJon Jarreau</td>\n",
       "      <td>0.0</td>\n",
       "      <td>0.0</td>\n",
       "      <td>NaN</td>\n",
       "    </tr>\n",
       "    <tr>\n",
       "      <th>2411</th>\n",
       "      <td>Lari Ketner</td>\n",
       "      <td>0.0</td>\n",
       "      <td>0.0</td>\n",
       "      <td>NaN</td>\n",
       "    </tr>\n",
       "    <tr>\n",
       "      <th>2932</th>\n",
       "      <td>Ben Moore</td>\n",
       "      <td>0.0</td>\n",
       "      <td>0.0</td>\n",
       "      <td>NaN</td>\n",
       "    </tr>\n",
       "    <tr>\n",
       "      <th>2947</th>\n",
       "      <td>Trey McKinney-Jones</td>\n",
       "      <td>0.0</td>\n",
       "      <td>0.0</td>\n",
       "      <td>NaN</td>\n",
       "    </tr>\n",
       "  </tbody>\n",
       "</table>\n",
       "</div>"
      ],
      "text/plain": [
       "                   Player   FG  FGA  FG%\n",
       "103       Adrian Caldwell  0.0  0.0  NaN\n",
       "250            Guy Rucker  0.0  0.0  NaN\n",
       "428            Gani Lawal  0.0  0.0  NaN\n",
       "1172           C.J. Miles  0.0  0.0  NaN\n",
       "1850           Ade Murkey  0.0  0.0  NaN\n",
       "2112         Ronny Turiaf  0.0  0.0  NaN\n",
       "2358        DeJon Jarreau  0.0  0.0  NaN\n",
       "2411          Lari Ketner  0.0  0.0  NaN\n",
       "2932            Ben Moore  0.0  0.0  NaN\n",
       "2947  Trey McKinney-Jones  0.0  0.0  NaN"
      ]
     },
     "execution_count": 6,
     "metadata": {},
     "output_type": "execute_result"
    }
   ],
   "source": [
    "stats[pd.isnull(stats['FG%'])][['Player','FG','FGA','FG%']].head(10)"
   ]
  },
  {
   "attachments": {},
   "cell_type": "markdown",
   "metadata": {},
   "source": [
    "My assumption was correct.\n",
    "\n",
    "I'm going to change these values to 0, as these players are probably not competing for MVP."
   ]
  },
  {
   "cell_type": "code",
   "execution_count": 7,
   "metadata": {},
   "outputs": [],
   "source": [
    "stats = stats.fillna(0)"
   ]
  },
  {
   "attachments": {},
   "cell_type": "markdown",
   "metadata": {},
   "source": [
    "### Predicting Using Ridge Regression"
   ]
  },
  {
   "attachments": {},
   "cell_type": "markdown",
   "metadata": {},
   "source": [
    "I'm going to use all the numeric values to make the prediction except 'Pts Won', 'Pts Max', 'Share', as they are directly correlated with share."
   ]
  },
  {
   "cell_type": "code",
   "execution_count": 8,
   "metadata": {},
   "outputs": [
    {
     "data": {
      "text/plain": [
       "Index(['Player', 'Pos', 'Age', 'Tm', 'G', 'GS', 'MP', 'FG', 'FGA', 'FG%', '3P',\n",
       "       '3PA', '3P%', '2P', '2PA', '2P%', 'eFG%', 'FT', 'FTA', 'FT%', 'ORB',\n",
       "       'DRB', 'TRB', 'AST', 'STL', 'BLK', 'TOV', 'PF', 'PTS', 'Year',\n",
       "       'Pts Won', 'Pts Max', 'Share', 'Team', 'W', 'L', 'W/L%', 'GB', 'PS/G',\n",
       "       'PA/G', 'SRS', 'Conference'],\n",
       "      dtype='object')"
      ]
     },
     "execution_count": 8,
     "metadata": {},
     "output_type": "execute_result"
    }
   ],
   "source": [
    "stats.columns"
   ]
  },
  {
   "cell_type": "code",
   "execution_count": 9,
   "metadata": {},
   "outputs": [],
   "source": [
    "predictors = ['Age', 'G', 'GS', 'MP', 'FG', 'FGA', 'FG%', '3P',\n",
    "       '3PA', '3P%', '2P', '2PA', '2P%', 'eFG%', 'FT', 'FTA', 'FT%', 'ORB',\n",
    "       'DRB', 'TRB', 'AST', 'STL', 'BLK', 'TOV', 'PF', 'PTS', 'Year',\n",
    "       'W', 'L', 'W/L%', 'GB', 'PS/G', 'PA/G', 'SRS']"
   ]
  },
  {
   "attachments": {},
   "cell_type": "markdown",
   "metadata": {},
   "source": [
    "Creating train and test dataframes."
   ]
  },
  {
   "cell_type": "code",
   "execution_count": 10,
   "metadata": {},
   "outputs": [],
   "source": [
    "train = stats[stats['Year'] < 2022]\n",
    "test = stats[stats['Year'] == 2022]"
   ]
  },
  {
   "attachments": {},
   "cell_type": "markdown",
   "metadata": {},
   "source": [
    "Creating the Ridge regression model."
   ]
  },
  {
   "cell_type": "code",
   "execution_count": 11,
   "metadata": {},
   "outputs": [],
   "source": [
    "# alpha controlls how much the coefficients are going to be shrunk to avoid overfitting\n",
    "reg = Ridge(alpha=0.1)"
   ]
  },
  {
   "attachments": {},
   "cell_type": "markdown",
   "metadata": {},
   "source": [
    "Training the model."
   ]
  },
  {
   "cell_type": "code",
   "execution_count": 12,
   "metadata": {},
   "outputs": [
    {
     "data": {
      "text/html": [
       "<style>#sk-container-id-1 {color: black;background-color: white;}#sk-container-id-1 pre{padding: 0;}#sk-container-id-1 div.sk-toggleable {background-color: white;}#sk-container-id-1 label.sk-toggleable__label {cursor: pointer;display: block;width: 100%;margin-bottom: 0;padding: 0.3em;box-sizing: border-box;text-align: center;}#sk-container-id-1 label.sk-toggleable__label-arrow:before {content: \"▸\";float: left;margin-right: 0.25em;color: #696969;}#sk-container-id-1 label.sk-toggleable__label-arrow:hover:before {color: black;}#sk-container-id-1 div.sk-estimator:hover label.sk-toggleable__label-arrow:before {color: black;}#sk-container-id-1 div.sk-toggleable__content {max-height: 0;max-width: 0;overflow: hidden;text-align: left;background-color: #f0f8ff;}#sk-container-id-1 div.sk-toggleable__content pre {margin: 0.2em;color: black;border-radius: 0.25em;background-color: #f0f8ff;}#sk-container-id-1 input.sk-toggleable__control:checked~div.sk-toggleable__content {max-height: 200px;max-width: 100%;overflow: auto;}#sk-container-id-1 input.sk-toggleable__control:checked~label.sk-toggleable__label-arrow:before {content: \"▾\";}#sk-container-id-1 div.sk-estimator input.sk-toggleable__control:checked~label.sk-toggleable__label {background-color: #d4ebff;}#sk-container-id-1 div.sk-label input.sk-toggleable__control:checked~label.sk-toggleable__label {background-color: #d4ebff;}#sk-container-id-1 input.sk-hidden--visually {border: 0;clip: rect(1px 1px 1px 1px);clip: rect(1px, 1px, 1px, 1px);height: 1px;margin: -1px;overflow: hidden;padding: 0;position: absolute;width: 1px;}#sk-container-id-1 div.sk-estimator {font-family: monospace;background-color: #f0f8ff;border: 1px dotted black;border-radius: 0.25em;box-sizing: border-box;margin-bottom: 0.5em;}#sk-container-id-1 div.sk-estimator:hover {background-color: #d4ebff;}#sk-container-id-1 div.sk-parallel-item::after {content: \"\";width: 100%;border-bottom: 1px solid gray;flex-grow: 1;}#sk-container-id-1 div.sk-label:hover label.sk-toggleable__label {background-color: #d4ebff;}#sk-container-id-1 div.sk-serial::before {content: \"\";position: absolute;border-left: 1px solid gray;box-sizing: border-box;top: 0;bottom: 0;left: 50%;z-index: 0;}#sk-container-id-1 div.sk-serial {display: flex;flex-direction: column;align-items: center;background-color: white;padding-right: 0.2em;padding-left: 0.2em;position: relative;}#sk-container-id-1 div.sk-item {position: relative;z-index: 1;}#sk-container-id-1 div.sk-parallel {display: flex;align-items: stretch;justify-content: center;background-color: white;position: relative;}#sk-container-id-1 div.sk-item::before, #sk-container-id-1 div.sk-parallel-item::before {content: \"\";position: absolute;border-left: 1px solid gray;box-sizing: border-box;top: 0;bottom: 0;left: 50%;z-index: -1;}#sk-container-id-1 div.sk-parallel-item {display: flex;flex-direction: column;z-index: 1;position: relative;background-color: white;}#sk-container-id-1 div.sk-parallel-item:first-child::after {align-self: flex-end;width: 50%;}#sk-container-id-1 div.sk-parallel-item:last-child::after {align-self: flex-start;width: 50%;}#sk-container-id-1 div.sk-parallel-item:only-child::after {width: 0;}#sk-container-id-1 div.sk-dashed-wrapped {border: 1px dashed gray;margin: 0 0.4em 0.5em 0.4em;box-sizing: border-box;padding-bottom: 0.4em;background-color: white;}#sk-container-id-1 div.sk-label label {font-family: monospace;font-weight: bold;display: inline-block;line-height: 1.2em;}#sk-container-id-1 div.sk-label-container {text-align: center;}#sk-container-id-1 div.sk-container {/* jupyter's `normalize.less` sets `[hidden] { display: none; }` but bootstrap.min.css set `[hidden] { display: none !important; }` so we also need the `!important` here to be able to override the default hidden behavior on the sphinx rendered scikit-learn.org. See: https://github.com/scikit-learn/scikit-learn/issues/21755 */display: inline-block !important;position: relative;}#sk-container-id-1 div.sk-text-repr-fallback {display: none;}</style><div id=\"sk-container-id-1\" class=\"sk-top-container\"><div class=\"sk-text-repr-fallback\"><pre>Ridge(alpha=0.1)</pre><b>In a Jupyter environment, please rerun this cell to show the HTML representation or trust the notebook. <br />On GitHub, the HTML representation is unable to render, please try loading this page with nbviewer.org.</b></div><div class=\"sk-container\" hidden><div class=\"sk-item\"><div class=\"sk-estimator sk-toggleable\"><input class=\"sk-toggleable__control sk-hidden--visually\" id=\"sk-estimator-id-1\" type=\"checkbox\" checked><label for=\"sk-estimator-id-1\" class=\"sk-toggleable__label sk-toggleable__label-arrow\">Ridge</label><div class=\"sk-toggleable__content\"><pre>Ridge(alpha=0.1)</pre></div></div></div></div></div>"
      ],
      "text/plain": [
       "Ridge(alpha=0.1)"
      ]
     },
     "execution_count": 12,
     "metadata": {},
     "output_type": "execute_result"
    }
   ],
   "source": [
    "reg.fit(train[predictors], train['Share'])"
   ]
  },
  {
   "attachments": {},
   "cell_type": "markdown",
   "metadata": {},
   "source": [
    "Predicting the share value of 2021."
   ]
  },
  {
   "cell_type": "code",
   "execution_count": 13,
   "metadata": {},
   "outputs": [],
   "source": [
    "predictions = reg.predict(test[predictors])\n",
    "predictions = pd.DataFrame(predictions, columns =['Prediction'], index = test.index)"
   ]
  },
  {
   "cell_type": "code",
   "execution_count": 14,
   "metadata": {},
   "outputs": [
    {
     "data": {
      "text/html": [
       "<div>\n",
       "<style scoped>\n",
       "    .dataframe tbody tr th:only-of-type {\n",
       "        vertical-align: middle;\n",
       "    }\n",
       "\n",
       "    .dataframe tbody tr th {\n",
       "        vertical-align: top;\n",
       "    }\n",
       "\n",
       "    .dataframe thead th {\n",
       "        text-align: right;\n",
       "    }\n",
       "</style>\n",
       "<table border=\"1\" class=\"dataframe\">\n",
       "  <thead>\n",
       "    <tr style=\"text-align: right;\">\n",
       "      <th></th>\n",
       "      <th>Prediction</th>\n",
       "    </tr>\n",
       "  </thead>\n",
       "  <tbody>\n",
       "    <tr>\n",
       "      <th>648</th>\n",
       "      <td>0.012934</td>\n",
       "    </tr>\n",
       "    <tr>\n",
       "      <th>649</th>\n",
       "      <td>-0.028142</td>\n",
       "    </tr>\n",
       "    <tr>\n",
       "      <th>650</th>\n",
       "      <td>-0.006163</td>\n",
       "    </tr>\n",
       "    <tr>\n",
       "      <th>651</th>\n",
       "      <td>0.016564</td>\n",
       "    </tr>\n",
       "    <tr>\n",
       "      <th>652</th>\n",
       "      <td>-0.004820</td>\n",
       "    </tr>\n",
       "  </tbody>\n",
       "</table>\n",
       "</div>"
      ],
      "text/plain": [
       "     Prediction\n",
       "648    0.012934\n",
       "649   -0.028142\n",
       "650   -0.006163\n",
       "651    0.016564\n",
       "652   -0.004820"
      ]
     },
     "execution_count": 14,
     "metadata": {},
     "output_type": "execute_result"
    }
   ],
   "source": [
    "predictions.head()"
   ]
  },
  {
   "attachments": {},
   "cell_type": "markdown",
   "metadata": {},
   "source": [
    "Combining the test dataframe with the predictions to compare the values."
   ]
  },
  {
   "cell_type": "code",
   "execution_count": 15,
   "metadata": {},
   "outputs": [
    {
     "data": {
      "text/html": [
       "<div>\n",
       "<style scoped>\n",
       "    .dataframe tbody tr th:only-of-type {\n",
       "        vertical-align: middle;\n",
       "    }\n",
       "\n",
       "    .dataframe tbody tr th {\n",
       "        vertical-align: top;\n",
       "    }\n",
       "\n",
       "    .dataframe thead th {\n",
       "        text-align: right;\n",
       "    }\n",
       "</style>\n",
       "<table border=\"1\" class=\"dataframe\">\n",
       "  <thead>\n",
       "    <tr style=\"text-align: right;\">\n",
       "      <th></th>\n",
       "      <th>Player</th>\n",
       "      <th>Share</th>\n",
       "      <th>Prediction</th>\n",
       "    </tr>\n",
       "  </thead>\n",
       "  <tbody>\n",
       "    <tr>\n",
       "      <th>663</th>\n",
       "      <td>Nikola Jokić</td>\n",
       "      <td>0.875</td>\n",
       "      <td>0.190365</td>\n",
       "    </tr>\n",
       "    <tr>\n",
       "      <th>837</th>\n",
       "      <td>Joel Embiid</td>\n",
       "      <td>0.706</td>\n",
       "      <td>0.190462</td>\n",
       "    </tr>\n",
       "    <tr>\n",
       "      <th>11678</th>\n",
       "      <td>Giannis Antetokounmpo</td>\n",
       "      <td>0.595</td>\n",
       "      <td>0.219410</td>\n",
       "    </tr>\n",
       "    <tr>\n",
       "      <th>907</th>\n",
       "      <td>Devin Booker</td>\n",
       "      <td>0.216</td>\n",
       "      <td>0.091309</td>\n",
       "    </tr>\n",
       "    <tr>\n",
       "      <th>11469</th>\n",
       "      <td>Luka Dončić</td>\n",
       "      <td>0.146</td>\n",
       "      <td>0.157395</td>\n",
       "    </tr>\n",
       "    <tr>\n",
       "      <th>1179</th>\n",
       "      <td>Jayson Tatum</td>\n",
       "      <td>0.043</td>\n",
       "      <td>0.095902</td>\n",
       "    </tr>\n",
       "    <tr>\n",
       "      <th>12226</th>\n",
       "      <td>Ja Morant</td>\n",
       "      <td>0.010</td>\n",
       "      <td>0.120508</td>\n",
       "    </tr>\n",
       "    <tr>\n",
       "      <th>6398</th>\n",
       "      <td>Stephen Curry</td>\n",
       "      <td>0.004</td>\n",
       "      <td>0.093138</td>\n",
       "    </tr>\n",
       "    <tr>\n",
       "      <th>905</th>\n",
       "      <td>Chris Paul</td>\n",
       "      <td>0.002</td>\n",
       "      <td>0.078329</td>\n",
       "    </tr>\n",
       "    <tr>\n",
       "      <th>8241</th>\n",
       "      <td>LeBron James</td>\n",
       "      <td>0.001</td>\n",
       "      <td>0.157828</td>\n",
       "    </tr>\n",
       "    <tr>\n",
       "      <th>3938</th>\n",
       "      <td>DeMar DeRozan</td>\n",
       "      <td>0.001</td>\n",
       "      <td>0.099241</td>\n",
       "    </tr>\n",
       "    <tr>\n",
       "      <th>6185</th>\n",
       "      <td>Kevin Durant</td>\n",
       "      <td>0.001</td>\n",
       "      <td>0.140627</td>\n",
       "    </tr>\n",
       "    <tr>\n",
       "      <th>9752</th>\n",
       "      <td>OG Anunoby</td>\n",
       "      <td>0.000</td>\n",
       "      <td>-0.000587</td>\n",
       "    </tr>\n",
       "    <tr>\n",
       "      <th>9749</th>\n",
       "      <td>Justin Champagnie</td>\n",
       "      <td>0.000</td>\n",
       "      <td>-0.014344</td>\n",
       "    </tr>\n",
       "    <tr>\n",
       "      <th>9750</th>\n",
       "      <td>Khem Birch</td>\n",
       "      <td>0.000</td>\n",
       "      <td>-0.027194</td>\n",
       "    </tr>\n",
       "  </tbody>\n",
       "</table>\n",
       "</div>"
      ],
      "text/plain": [
       "                      Player  Share  Prediction\n",
       "663             Nikola Jokić  0.875    0.190365\n",
       "837              Joel Embiid  0.706    0.190462\n",
       "11678  Giannis Antetokounmpo  0.595    0.219410\n",
       "907             Devin Booker  0.216    0.091309\n",
       "11469            Luka Dončić  0.146    0.157395\n",
       "1179            Jayson Tatum  0.043    0.095902\n",
       "12226              Ja Morant  0.010    0.120508\n",
       "6398           Stephen Curry  0.004    0.093138\n",
       "905               Chris Paul  0.002    0.078329\n",
       "8241            LeBron James  0.001    0.157828\n",
       "3938           DeMar DeRozan  0.001    0.099241\n",
       "6185            Kevin Durant  0.001    0.140627\n",
       "9752              OG Anunoby  0.000   -0.000587\n",
       "9749       Justin Champagnie  0.000   -0.014344\n",
       "9750              Khem Birch  0.000   -0.027194"
      ]
     },
     "execution_count": 15,
     "metadata": {},
     "output_type": "execute_result"
    }
   ],
   "source": [
    "combined = pd.concat([test[['Player','Share']], predictions], axis=1) # axis=1 means concat columns, not rows\n",
    "combined.sort_values('Share', ascending=False).head(15)"
   ]
  },
  {
   "attachments": {},
   "cell_type": "markdown",
   "metadata": {},
   "source": [
    "We can see that the algorithm did not get Nikola Jokić as the highest share value."
   ]
  },
  {
   "attachments": {},
   "cell_type": "markdown",
   "metadata": {},
   "source": [
    "Let's try to use MSE (mean squared error) as an error metric for the regression model."
   ]
  },
  {
   "cell_type": "code",
   "execution_count": 16,
   "metadata": {},
   "outputs": [
    {
     "data": {
      "text/plain": [
       "0.002240241602564993"
      ]
     },
     "execution_count": 16,
     "metadata": {},
     "output_type": "execute_result"
    }
   ],
   "source": [
    "mean_squared_error(combined['Share'],combined['Prediction'])"
   ]
  },
  {
   "cell_type": "code",
   "execution_count": 17,
   "metadata": {},
   "outputs": [
    {
     "data": {
      "text/plain": [
       "0.000    593\n",
       "0.001      3\n",
       "0.875      1\n",
       "0.706      1\n",
       "0.002      1\n",
       "0.216      1\n",
       "0.043      1\n",
       "0.004      1\n",
       "0.146      1\n",
       "0.595      1\n",
       "0.010      1\n",
       "Name: Share, dtype: int64"
      ]
     },
     "execution_count": 17,
     "metadata": {},
     "output_type": "execute_result"
    }
   ],
   "source": [
    "combined['Share'].value_counts()"
   ]
  },
  {
   "attachments": {},
   "cell_type": "markdown",
   "metadata": {},
   "source": [
    "This is not very helpful as most of the NBA players get 0 points, and their share is 0 (525 players got 0 points).\n",
    "\n",
    "Need to find a different error metric."
   ]
  },
  {
   "attachments": {},
   "cell_type": "markdown",
   "metadata": {},
   "source": [
    "### Using Avarage Precision as an error metric"
   ]
  },
  {
   "attachments": {},
   "cell_type": "markdown",
   "metadata": {},
   "source": [
    "Adding rank by share value & prediction value."
   ]
  },
  {
   "cell_type": "code",
   "execution_count": 18,
   "metadata": {},
   "outputs": [
    {
     "data": {
      "text/html": [
       "<div>\n",
       "<style scoped>\n",
       "    .dataframe tbody tr th:only-of-type {\n",
       "        vertical-align: middle;\n",
       "    }\n",
       "\n",
       "    .dataframe tbody tr th {\n",
       "        vertical-align: top;\n",
       "    }\n",
       "\n",
       "    .dataframe thead th {\n",
       "        text-align: right;\n",
       "    }\n",
       "</style>\n",
       "<table border=\"1\" class=\"dataframe\">\n",
       "  <thead>\n",
       "    <tr style=\"text-align: right;\">\n",
       "      <th></th>\n",
       "      <th>Player</th>\n",
       "      <th>Share</th>\n",
       "      <th>Prediction</th>\n",
       "      <th>Share_Rank</th>\n",
       "      <th>Prediction_Rank</th>\n",
       "      <th>Diff</th>\n",
       "    </tr>\n",
       "  </thead>\n",
       "  <tbody>\n",
       "    <tr>\n",
       "      <th>11678</th>\n",
       "      <td>Giannis Antetokounmpo</td>\n",
       "      <td>0.595</td>\n",
       "      <td>0.219410</td>\n",
       "      <td>3</td>\n",
       "      <td>1</td>\n",
       "      <td>2</td>\n",
       "    </tr>\n",
       "    <tr>\n",
       "      <th>837</th>\n",
       "      <td>Joel Embiid</td>\n",
       "      <td>0.706</td>\n",
       "      <td>0.190462</td>\n",
       "      <td>2</td>\n",
       "      <td>2</td>\n",
       "      <td>0</td>\n",
       "    </tr>\n",
       "    <tr>\n",
       "      <th>663</th>\n",
       "      <td>Nikola Jokić</td>\n",
       "      <td>0.875</td>\n",
       "      <td>0.190365</td>\n",
       "      <td>1</td>\n",
       "      <td>3</td>\n",
       "      <td>-2</td>\n",
       "    </tr>\n",
       "    <tr>\n",
       "      <th>8241</th>\n",
       "      <td>LeBron James</td>\n",
       "      <td>0.001</td>\n",
       "      <td>0.157828</td>\n",
       "      <td>10</td>\n",
       "      <td>4</td>\n",
       "      <td>6</td>\n",
       "    </tr>\n",
       "    <tr>\n",
       "      <th>11469</th>\n",
       "      <td>Luka Dončić</td>\n",
       "      <td>0.146</td>\n",
       "      <td>0.157395</td>\n",
       "      <td>5</td>\n",
       "      <td>5</td>\n",
       "      <td>0</td>\n",
       "    </tr>\n",
       "    <tr>\n",
       "      <th>6185</th>\n",
       "      <td>Kevin Durant</td>\n",
       "      <td>0.001</td>\n",
       "      <td>0.140627</td>\n",
       "      <td>12</td>\n",
       "      <td>6</td>\n",
       "      <td>6</td>\n",
       "    </tr>\n",
       "    <tr>\n",
       "      <th>12226</th>\n",
       "      <td>Ja Morant</td>\n",
       "      <td>0.010</td>\n",
       "      <td>0.120508</td>\n",
       "      <td>7</td>\n",
       "      <td>7</td>\n",
       "      <td>0</td>\n",
       "    </tr>\n",
       "    <tr>\n",
       "      <th>11820</th>\n",
       "      <td>Trae Young</td>\n",
       "      <td>0.000</td>\n",
       "      <td>0.109246</td>\n",
       "      <td>289</td>\n",
       "      <td>8</td>\n",
       "      <td>281</td>\n",
       "    </tr>\n",
       "    <tr>\n",
       "      <th>8231</th>\n",
       "      <td>Anthony Davis</td>\n",
       "      <td>0.000</td>\n",
       "      <td>0.107306</td>\n",
       "      <td>112</td>\n",
       "      <td>9</td>\n",
       "      <td>103</td>\n",
       "    </tr>\n",
       "    <tr>\n",
       "      <th>836</th>\n",
       "      <td>James Harden</td>\n",
       "      <td>0.000</td>\n",
       "      <td>0.103584</td>\n",
       "      <td>393</td>\n",
       "      <td>10</td>\n",
       "      <td>383</td>\n",
       "    </tr>\n",
       "  </tbody>\n",
       "</table>\n",
       "</div>"
      ],
      "text/plain": [
       "                      Player  Share  Prediction  Share_Rank  Prediction_Rank  \\\n",
       "11678  Giannis Antetokounmpo  0.595    0.219410           3                1   \n",
       "837              Joel Embiid  0.706    0.190462           2                2   \n",
       "663             Nikola Jokić  0.875    0.190365           1                3   \n",
       "8241            LeBron James  0.001    0.157828          10                4   \n",
       "11469            Luka Dončić  0.146    0.157395           5                5   \n",
       "6185            Kevin Durant  0.001    0.140627          12                6   \n",
       "12226              Ja Morant  0.010    0.120508           7                7   \n",
       "11820             Trae Young  0.000    0.109246         289                8   \n",
       "8231           Anthony Davis  0.000    0.107306         112                9   \n",
       "836             James Harden  0.000    0.103584         393               10   \n",
       "\n",
       "       Diff  \n",
       "11678     2  \n",
       "837       0  \n",
       "663      -2  \n",
       "8241      6  \n",
       "11469     0  \n",
       "6185      6  \n",
       "12226     0  \n",
       "11820   281  \n",
       "8231    103  \n",
       "836     383  "
      ]
     },
     "execution_count": 18,
     "metadata": {},
     "output_type": "execute_result"
    }
   ],
   "source": [
    "# Rank by share\n",
    "combined = combined.sort_values('Share', ascending=False)\n",
    "combined['Share_Rank'] = range(1, combined.shape[0]+1)\n",
    "\n",
    "# Rank by prediction\n",
    "combined = combined.sort_values('Prediction', ascending=False)\n",
    "combined['Prediction_Rank'] = range(1, combined.shape[0]+1)\n",
    "\n",
    "# Difference between shared rank and predicted rank\n",
    "combined['Diff'] = combined['Share_Rank'] - combined['Prediction_Rank']\n",
    "\n",
    "combined.head(10)"
   ]
  },
  {
   "attachments": {},
   "cell_type": "markdown",
   "metadata": {},
   "source": [
    "Because my goal is to predict the MVP, I only care about the top players (let's say the top 5 of share values)."
   ]
  },
  {
   "cell_type": "code",
   "execution_count": 19,
   "metadata": {},
   "outputs": [
    {
     "data": {
      "text/html": [
       "<div>\n",
       "<style scoped>\n",
       "    .dataframe tbody tr th:only-of-type {\n",
       "        vertical-align: middle;\n",
       "    }\n",
       "\n",
       "    .dataframe tbody tr th {\n",
       "        vertical-align: top;\n",
       "    }\n",
       "\n",
       "    .dataframe thead th {\n",
       "        text-align: right;\n",
       "    }\n",
       "</style>\n",
       "<table border=\"1\" class=\"dataframe\">\n",
       "  <thead>\n",
       "    <tr style=\"text-align: right;\">\n",
       "      <th></th>\n",
       "      <th>Player</th>\n",
       "      <th>Share</th>\n",
       "      <th>Prediction</th>\n",
       "      <th>Share_Rank</th>\n",
       "      <th>Prediction_Rank</th>\n",
       "      <th>Diff</th>\n",
       "    </tr>\n",
       "  </thead>\n",
       "  <tbody>\n",
       "    <tr>\n",
       "      <th>663</th>\n",
       "      <td>Nikola Jokić</td>\n",
       "      <td>0.875</td>\n",
       "      <td>0.190365</td>\n",
       "      <td>1</td>\n",
       "      <td>3</td>\n",
       "      <td>-2</td>\n",
       "    </tr>\n",
       "    <tr>\n",
       "      <th>837</th>\n",
       "      <td>Joel Embiid</td>\n",
       "      <td>0.706</td>\n",
       "      <td>0.190462</td>\n",
       "      <td>2</td>\n",
       "      <td>2</td>\n",
       "      <td>0</td>\n",
       "    </tr>\n",
       "    <tr>\n",
       "      <th>11678</th>\n",
       "      <td>Giannis Antetokounmpo</td>\n",
       "      <td>0.595</td>\n",
       "      <td>0.219410</td>\n",
       "      <td>3</td>\n",
       "      <td>1</td>\n",
       "      <td>2</td>\n",
       "    </tr>\n",
       "    <tr>\n",
       "      <th>907</th>\n",
       "      <td>Devin Booker</td>\n",
       "      <td>0.216</td>\n",
       "      <td>0.091309</td>\n",
       "      <td>4</td>\n",
       "      <td>17</td>\n",
       "      <td>-13</td>\n",
       "    </tr>\n",
       "    <tr>\n",
       "      <th>11469</th>\n",
       "      <td>Luka Dončić</td>\n",
       "      <td>0.146</td>\n",
       "      <td>0.157395</td>\n",
       "      <td>5</td>\n",
       "      <td>5</td>\n",
       "      <td>0</td>\n",
       "    </tr>\n",
       "  </tbody>\n",
       "</table>\n",
       "</div>"
      ],
      "text/plain": [
       "                      Player  Share  Prediction  Share_Rank  Prediction_Rank  \\\n",
       "663             Nikola Jokić  0.875    0.190365           1                3   \n",
       "837              Joel Embiid  0.706    0.190462           2                2   \n",
       "11678  Giannis Antetokounmpo  0.595    0.219410           3                1   \n",
       "907             Devin Booker  0.216    0.091309           4               17   \n",
       "11469            Luka Dončić  0.146    0.157395           5                5   \n",
       "\n",
       "       Diff  \n",
       "663      -2  \n",
       "837       0  \n",
       "11678     2  \n",
       "907     -13  \n",
       "11469     0  "
      ]
     },
     "execution_count": 19,
     "metadata": {},
     "output_type": "execute_result"
    }
   ],
   "source": [
    "combined.sort_values('Share',ascending=False).head()"
   ]
  },
  {
   "cell_type": "code",
   "execution_count": 20,
   "metadata": {},
   "outputs": [
    {
     "data": {
      "text/html": [
       "<div>\n",
       "<style scoped>\n",
       "    .dataframe tbody tr th:only-of-type {\n",
       "        vertical-align: middle;\n",
       "    }\n",
       "\n",
       "    .dataframe tbody tr th {\n",
       "        vertical-align: top;\n",
       "    }\n",
       "\n",
       "    .dataframe thead th {\n",
       "        text-align: right;\n",
       "    }\n",
       "</style>\n",
       "<table border=\"1\" class=\"dataframe\">\n",
       "  <thead>\n",
       "    <tr style=\"text-align: right;\">\n",
       "      <th></th>\n",
       "      <th>Player</th>\n",
       "      <th>Share</th>\n",
       "      <th>Prediction</th>\n",
       "      <th>Share_Rank</th>\n",
       "      <th>Prediction_Rank</th>\n",
       "      <th>Diff</th>\n",
       "    </tr>\n",
       "  </thead>\n",
       "  <tbody>\n",
       "    <tr>\n",
       "      <th>11678</th>\n",
       "      <td>Giannis Antetokounmpo</td>\n",
       "      <td>0.595</td>\n",
       "      <td>0.219410</td>\n",
       "      <td>3</td>\n",
       "      <td>1</td>\n",
       "      <td>2</td>\n",
       "    </tr>\n",
       "    <tr>\n",
       "      <th>837</th>\n",
       "      <td>Joel Embiid</td>\n",
       "      <td>0.706</td>\n",
       "      <td>0.190462</td>\n",
       "      <td>2</td>\n",
       "      <td>2</td>\n",
       "      <td>0</td>\n",
       "    </tr>\n",
       "    <tr>\n",
       "      <th>663</th>\n",
       "      <td>Nikola Jokić</td>\n",
       "      <td>0.875</td>\n",
       "      <td>0.190365</td>\n",
       "      <td>1</td>\n",
       "      <td>3</td>\n",
       "      <td>-2</td>\n",
       "    </tr>\n",
       "    <tr>\n",
       "      <th>8241</th>\n",
       "      <td>LeBron James</td>\n",
       "      <td>0.001</td>\n",
       "      <td>0.157828</td>\n",
       "      <td>10</td>\n",
       "      <td>4</td>\n",
       "      <td>6</td>\n",
       "    </tr>\n",
       "    <tr>\n",
       "      <th>11469</th>\n",
       "      <td>Luka Dončić</td>\n",
       "      <td>0.146</td>\n",
       "      <td>0.157395</td>\n",
       "      <td>5</td>\n",
       "      <td>5</td>\n",
       "      <td>0</td>\n",
       "    </tr>\n",
       "    <tr>\n",
       "      <th>6185</th>\n",
       "      <td>Kevin Durant</td>\n",
       "      <td>0.001</td>\n",
       "      <td>0.140627</td>\n",
       "      <td>12</td>\n",
       "      <td>6</td>\n",
       "      <td>6</td>\n",
       "    </tr>\n",
       "    <tr>\n",
       "      <th>12226</th>\n",
       "      <td>Ja Morant</td>\n",
       "      <td>0.010</td>\n",
       "      <td>0.120508</td>\n",
       "      <td>7</td>\n",
       "      <td>7</td>\n",
       "      <td>0</td>\n",
       "    </tr>\n",
       "    <tr>\n",
       "      <th>11820</th>\n",
       "      <td>Trae Young</td>\n",
       "      <td>0.000</td>\n",
       "      <td>0.109246</td>\n",
       "      <td>289</td>\n",
       "      <td>8</td>\n",
       "      <td>281</td>\n",
       "    </tr>\n",
       "    <tr>\n",
       "      <th>8231</th>\n",
       "      <td>Anthony Davis</td>\n",
       "      <td>0.000</td>\n",
       "      <td>0.107306</td>\n",
       "      <td>112</td>\n",
       "      <td>9</td>\n",
       "      <td>103</td>\n",
       "    </tr>\n",
       "    <tr>\n",
       "      <th>836</th>\n",
       "      <td>James Harden</td>\n",
       "      <td>0.000</td>\n",
       "      <td>0.103584</td>\n",
       "      <td>393</td>\n",
       "      <td>10</td>\n",
       "      <td>383</td>\n",
       "    </tr>\n",
       "  </tbody>\n",
       "</table>\n",
       "</div>"
      ],
      "text/plain": [
       "                      Player  Share  Prediction  Share_Rank  Prediction_Rank  \\\n",
       "11678  Giannis Antetokounmpo  0.595    0.219410           3                1   \n",
       "837              Joel Embiid  0.706    0.190462           2                2   \n",
       "663             Nikola Jokić  0.875    0.190365           1                3   \n",
       "8241            LeBron James  0.001    0.157828          10                4   \n",
       "11469            Luka Dončić  0.146    0.157395           5                5   \n",
       "6185            Kevin Durant  0.001    0.140627          12                6   \n",
       "12226              Ja Morant  0.010    0.120508           7                7   \n",
       "11820             Trae Young  0.000    0.109246         289                8   \n",
       "8231           Anthony Davis  0.000    0.107306         112                9   \n",
       "836             James Harden  0.000    0.103584         393               10   \n",
       "\n",
       "       Diff  \n",
       "11678     2  \n",
       "837       0  \n",
       "663      -2  \n",
       "8241      6  \n",
       "11469     0  \n",
       "6185      6  \n",
       "12226     0  \n",
       "11820   281  \n",
       "8231    103  \n",
       "836     383  "
      ]
     },
     "execution_count": 20,
     "metadata": {},
     "output_type": "execute_result"
    }
   ],
   "source": [
    "combined.sort_values('Prediction',ascending=False).head(10)"
   ]
  },
  {
   "cell_type": "code",
   "execution_count": 21,
   "metadata": {},
   "outputs": [
    {
     "data": {
      "text/html": [
       "<div>\n",
       "<style scoped>\n",
       "    .dataframe tbody tr th:only-of-type {\n",
       "        vertical-align: middle;\n",
       "    }\n",
       "\n",
       "    .dataframe tbody tr th {\n",
       "        vertical-align: top;\n",
       "    }\n",
       "\n",
       "    .dataframe thead th {\n",
       "        text-align: right;\n",
       "    }\n",
       "</style>\n",
       "<table border=\"1\" class=\"dataframe\">\n",
       "  <thead>\n",
       "    <tr style=\"text-align: right;\">\n",
       "      <th></th>\n",
       "      <th>Player</th>\n",
       "      <th>Share</th>\n",
       "      <th>Prediction</th>\n",
       "      <th>Share_Rank</th>\n",
       "      <th>Prediction_Rank</th>\n",
       "      <th>Diff</th>\n",
       "    </tr>\n",
       "  </thead>\n",
       "  <tbody>\n",
       "    <tr>\n",
       "      <th>907</th>\n",
       "      <td>Devin Booker</td>\n",
       "      <td>0.216</td>\n",
       "      <td>0.091309</td>\n",
       "      <td>4</td>\n",
       "      <td>17</td>\n",
       "      <td>-13</td>\n",
       "    </tr>\n",
       "  </tbody>\n",
       "</table>\n",
       "</div>"
      ],
      "text/plain": [
       "           Player  Share  Prediction  Share_Rank  Prediction_Rank  Diff\n",
       "907  Devin Booker  0.216    0.091309           4               17   -13"
      ]
     },
     "execution_count": 21,
     "metadata": {},
     "output_type": "execute_result"
    }
   ],
   "source": [
    "combined[combined['Share_Rank']==4]"
   ]
  },
  {
   "attachments": {},
   "cell_type": "markdown",
   "metadata": {},
   "source": [
    "An error metric that makes sense is avarage precision - of the top 5 ranked players in the MVP voting, how far down the predictions you have to go in order to find them.\n",
    "\n",
    "e.g. We will get penalised for Devin Booker\t as he ranked 4, but the prediction got him at rank 17."
   ]
  },
  {
   "cell_type": "code",
   "execution_count": 22,
   "metadata": {},
   "outputs": [],
   "source": [
    "def find_avg_precision(combined):\n",
    "    actual = combined.sort_values('Share', ascending=False).head(5)\n",
    "    predicted = combined.sort_values('Prediction', ascending=False)\n",
    "    ps=[]\n",
    "    found = 0\n",
    "    seen = 0\n",
    "    for index, row in predicted.iterrows():\n",
    "        seen += 1\n",
    "        if row['Player'] in actual['Player'].values:\n",
    "            found += 1\n",
    "            ps.append(found/seen)\n",
    "        if(found == 5):\n",
    "            break\n",
    "    return sum(ps)/len(ps)"
   ]
  },
  {
   "cell_type": "code",
   "execution_count": 23,
   "metadata": {},
   "outputs": [
    {
     "data": {
      "text/plain": [
       "0.8188235294117646"
      ]
     },
     "execution_count": 23,
     "metadata": {},
     "output_type": "execute_result"
    }
   ],
   "source": [
    "find_avg_precision(combined)"
   ]
  },
  {
   "attachments": {},
   "cell_type": "markdown",
   "metadata": {},
   "source": [
    "Let's use backtesting to get a more robust error metric (avarage precision)."
   ]
  },
  {
   "cell_type": "code",
   "execution_count": 24,
   "metadata": {},
   "outputs": [],
   "source": [
    "def calc_diff(combined):\n",
    "    combined = combined.sort_values('Share', ascending=False)\n",
    "    combined['Share_Rank'] = range(1, combined.shape[0]+1)\n",
    "    combined = combined.sort_values('Prediction', ascending=False)\n",
    "    combined['Prediction_Rank'] = range(1, combined.shape[0]+1)\n",
    "    combined['Diff'] = combined['Share_Rank'] - combined['Prediction_Rank']\n",
    "    return combined"
   ]
  },
  {
   "cell_type": "code",
   "execution_count": 25,
   "metadata": {},
   "outputs": [],
   "source": [
    "years = range(1991,2023)\n",
    "\n",
    "def backtest(stats, model, years, predictors):\n",
    "    avg_precisions = []\n",
    "    all_predictions = []\n",
    "    for year in years[5:]:\n",
    "        train = stats[stats['Year'] < year]\n",
    "        test = stats[stats['Year'] == year]\n",
    "        model.fit(train[predictors], train['Share'])\n",
    "        predictions = model.predict(test[predictors])\n",
    "        predictions = pd.DataFrame(predictions, columns =['Prediction'], index = test.index)\n",
    "        combined = pd.concat([test[['Player','Share']], predictions], axis=1)\n",
    "        combined = calc_diff(combined)\n",
    "        all_predictions.append(combined)\n",
    "        avg_precisions.append(find_avg_precision(combined))\n",
    "    return sum(avg_precisions)/len(avg_precisions), avg_precisions, pd.concat(all_predictions)"
   ]
  },
  {
   "cell_type": "code",
   "execution_count": 26,
   "metadata": {},
   "outputs": [],
   "source": [
    "mean_ap, aps, all_predictions = backtest(stats, reg, years, predictors)"
   ]
  },
  {
   "attachments": {},
   "cell_type": "markdown",
   "metadata": {},
   "source": [
    "The mean avarage precision for 1996 - 2022."
   ]
  },
  {
   "cell_type": "code",
   "execution_count": 27,
   "metadata": {},
   "outputs": [
    {
     "data": {
      "text/plain": [
       "0.7152712173135063"
      ]
     },
     "execution_count": 27,
     "metadata": {},
     "output_type": "execute_result"
    }
   ],
   "source": [
    "mean_ap"
   ]
  },
  {
   "attachments": {},
   "cell_type": "markdown",
   "metadata": {},
   "source": [
    "#### Diving Deeper into the Algorithm's Performance - Diagnosting the Model"
   ]
  },
  {
   "attachments": {},
   "cell_type": "markdown",
   "metadata": {},
   "source": [
    "Which players has the biggest difference?"
   ]
  },
  {
   "cell_type": "code",
   "execution_count": 28,
   "metadata": {},
   "outputs": [
    {
     "data": {
      "text/html": [
       "<div>\n",
       "<style scoped>\n",
       "    .dataframe tbody tr th:only-of-type {\n",
       "        vertical-align: middle;\n",
       "    }\n",
       "\n",
       "    .dataframe tbody tr th {\n",
       "        vertical-align: top;\n",
       "    }\n",
       "\n",
       "    .dataframe thead th {\n",
       "        text-align: right;\n",
       "    }\n",
       "</style>\n",
       "<table border=\"1\" class=\"dataframe\">\n",
       "  <thead>\n",
       "    <tr style=\"text-align: right;\">\n",
       "      <th></th>\n",
       "      <th>Player</th>\n",
       "      <th>Share</th>\n",
       "      <th>Prediction</th>\n",
       "      <th>Share_Rank</th>\n",
       "      <th>Prediction_Rank</th>\n",
       "      <th>Diff</th>\n",
       "    </tr>\n",
       "  </thead>\n",
       "  <tbody>\n",
       "    <tr>\n",
       "      <th>1334</th>\n",
       "      <td>Jason Kidd</td>\n",
       "      <td>0.712</td>\n",
       "      <td>0.028210</td>\n",
       "      <td>2</td>\n",
       "      <td>52</td>\n",
       "      <td>-50</td>\n",
       "    </tr>\n",
       "    <tr>\n",
       "      <th>8642</th>\n",
       "      <td>Glen Rice</td>\n",
       "      <td>0.117</td>\n",
       "      <td>0.033110</td>\n",
       "      <td>5</td>\n",
       "      <td>53</td>\n",
       "      <td>-48</td>\n",
       "    </tr>\n",
       "    <tr>\n",
       "      <th>5420</th>\n",
       "      <td>Steve Nash</td>\n",
       "      <td>0.839</td>\n",
       "      <td>0.034100</td>\n",
       "      <td>1</td>\n",
       "      <td>45</td>\n",
       "      <td>-44</td>\n",
       "    </tr>\n",
       "    <tr>\n",
       "      <th>8910</th>\n",
       "      <td>Peja Stojaković</td>\n",
       "      <td>0.228</td>\n",
       "      <td>0.036270</td>\n",
       "      <td>4</td>\n",
       "      <td>38</td>\n",
       "      <td>-34</td>\n",
       "    </tr>\n",
       "    <tr>\n",
       "      <th>13331</th>\n",
       "      <td>Joakim Noah</td>\n",
       "      <td>0.258</td>\n",
       "      <td>0.046968</td>\n",
       "      <td>4</td>\n",
       "      <td>37</td>\n",
       "      <td>-33</td>\n",
       "    </tr>\n",
       "    <tr>\n",
       "      <th>5438</th>\n",
       "      <td>Steve Nash</td>\n",
       "      <td>0.739</td>\n",
       "      <td>0.054129</td>\n",
       "      <td>1</td>\n",
       "      <td>34</td>\n",
       "      <td>-33</td>\n",
       "    </tr>\n",
       "    <tr>\n",
       "      <th>3849</th>\n",
       "      <td>Chauncey Billups</td>\n",
       "      <td>0.344</td>\n",
       "      <td>0.052696</td>\n",
       "      <td>5</td>\n",
       "      <td>35</td>\n",
       "      <td>-30</td>\n",
       "    </tr>\n",
       "    <tr>\n",
       "      <th>1499</th>\n",
       "      <td>Chris Paul</td>\n",
       "      <td>0.138</td>\n",
       "      <td>0.072293</td>\n",
       "      <td>5</td>\n",
       "      <td>33</td>\n",
       "      <td>-28</td>\n",
       "    </tr>\n",
       "    <tr>\n",
       "      <th>5453</th>\n",
       "      <td>Steve Nash</td>\n",
       "      <td>0.785</td>\n",
       "      <td>0.074421</td>\n",
       "      <td>2</td>\n",
       "      <td>21</td>\n",
       "      <td>-19</td>\n",
       "    </tr>\n",
       "    <tr>\n",
       "      <th>4912</th>\n",
       "      <td>Tim Hardaway</td>\n",
       "      <td>0.207</td>\n",
       "      <td>0.059984</td>\n",
       "      <td>4</td>\n",
       "      <td>20</td>\n",
       "      <td>-16</td>\n",
       "    </tr>\n",
       "  </tbody>\n",
       "</table>\n",
       "</div>"
      ],
      "text/plain": [
       "                 Player  Share  Prediction  Share_Rank  Prediction_Rank  Diff\n",
       "1334         Jason Kidd  0.712    0.028210           2               52   -50\n",
       "8642          Glen Rice  0.117    0.033110           5               53   -48\n",
       "5420         Steve Nash  0.839    0.034100           1               45   -44\n",
       "8910    Peja Stojaković  0.228    0.036270           4               38   -34\n",
       "13331       Joakim Noah  0.258    0.046968           4               37   -33\n",
       "5438         Steve Nash  0.739    0.054129           1               34   -33\n",
       "3849   Chauncey Billups  0.344    0.052696           5               35   -30\n",
       "1499         Chris Paul  0.138    0.072293           5               33   -28\n",
       "5453         Steve Nash  0.785    0.074421           2               21   -19\n",
       "4912       Tim Hardaway  0.207    0.059984           4               20   -16"
      ]
     },
     "execution_count": 28,
     "metadata": {},
     "output_type": "execute_result"
    }
   ],
   "source": [
    "all_predictions[all_predictions['Share_Rank'] <= 5].sort_values('Diff').head(10)"
   ]
  },
  {
   "attachments": {},
   "cell_type": "markdown",
   "metadata": {},
   "source": [
    "Which variables have the most impact on the regression's decision?"
   ]
  },
  {
   "cell_type": "code",
   "execution_count": 29,
   "metadata": {},
   "outputs": [
    {
     "data": {
      "text/html": [
       "<div>\n",
       "<style scoped>\n",
       "    .dataframe tbody tr th:only-of-type {\n",
       "        vertical-align: middle;\n",
       "    }\n",
       "\n",
       "    .dataframe tbody tr th {\n",
       "        vertical-align: top;\n",
       "    }\n",
       "\n",
       "    .dataframe thead th {\n",
       "        text-align: right;\n",
       "    }\n",
       "</style>\n",
       "<table border=\"1\" class=\"dataframe\">\n",
       "  <thead>\n",
       "    <tr style=\"text-align: right;\">\n",
       "      <th></th>\n",
       "      <th>Coefficient</th>\n",
       "      <th>Predictor</th>\n",
       "    </tr>\n",
       "  </thead>\n",
       "  <tbody>\n",
       "    <tr>\n",
       "      <th>13</th>\n",
       "      <td>0.087852</td>\n",
       "      <td>eFG%</td>\n",
       "    </tr>\n",
       "    <tr>\n",
       "      <th>18</th>\n",
       "      <td>0.033860</td>\n",
       "      <td>DRB</td>\n",
       "    </tr>\n",
       "    <tr>\n",
       "      <th>29</th>\n",
       "      <td>0.023198</td>\n",
       "      <td>W/L%</td>\n",
       "    </tr>\n",
       "    <tr>\n",
       "      <th>17</th>\n",
       "      <td>0.020993</td>\n",
       "      <td>ORB</td>\n",
       "    </tr>\n",
       "    <tr>\n",
       "      <th>10</th>\n",
       "      <td>0.016456</td>\n",
       "      <td>2P</td>\n",
       "    </tr>\n",
       "    <tr>\n",
       "      <th>21</th>\n",
       "      <td>0.012070</td>\n",
       "      <td>STL</td>\n",
       "    </tr>\n",
       "    <tr>\n",
       "      <th>22</th>\n",
       "      <td>0.010901</td>\n",
       "      <td>BLK</td>\n",
       "    </tr>\n",
       "    <tr>\n",
       "      <th>15</th>\n",
       "      <td>0.010414</td>\n",
       "      <td>FTA</td>\n",
       "    </tr>\n",
       "    <tr>\n",
       "      <th>20</th>\n",
       "      <td>0.007113</td>\n",
       "      <td>AST</td>\n",
       "    </tr>\n",
       "    <tr>\n",
       "      <th>12</th>\n",
       "      <td>0.007054</td>\n",
       "      <td>2P%</td>\n",
       "    </tr>\n",
       "  </tbody>\n",
       "</table>\n",
       "</div>"
      ],
      "text/plain": [
       "    Coefficient Predictor\n",
       "13     0.087852      eFG%\n",
       "18     0.033860       DRB\n",
       "29     0.023198      W/L%\n",
       "17     0.020993       ORB\n",
       "10     0.016456        2P\n",
       "21     0.012070       STL\n",
       "22     0.010901       BLK\n",
       "15     0.010414       FTA\n",
       "20     0.007113       AST\n",
       "12     0.007054       2P%"
      ]
     },
     "execution_count": 29,
     "metadata": {},
     "output_type": "execute_result"
    }
   ],
   "source": [
    "pd.concat([pd.Series(reg.coef_,name='Coefficient'), pd.Series(predictors,name='Predictor')], axis=1).sort_values('Coefficient',ascending=False).head(10)"
   ]
  },
  {
   "attachments": {},
   "cell_type": "markdown",
   "metadata": {},
   "source": [
    "To improve the performance I'll add more predictors.\n",
    "\n",
    "A good predictor will be the ratio of the player's performance to the avarage performance of all players for that year."
   ]
  },
  {
   "cell_type": "code",
   "execution_count": 30,
   "metadata": {},
   "outputs": [
    {
     "data": {
      "text/html": [
       "<div>\n",
       "<style scoped>\n",
       "    .dataframe tbody tr th:only-of-type {\n",
       "        vertical-align: middle;\n",
       "    }\n",
       "\n",
       "    .dataframe tbody tr th {\n",
       "        vertical-align: top;\n",
       "    }\n",
       "\n",
       "    .dataframe thead th {\n",
       "        text-align: right;\n",
       "    }\n",
       "</style>\n",
       "<table border=\"1\" class=\"dataframe\">\n",
       "  <thead>\n",
       "    <tr style=\"text-align: right;\">\n",
       "      <th></th>\n",
       "      <th>PTS</th>\n",
       "      <th>AST</th>\n",
       "      <th>STL</th>\n",
       "      <th>BLK</th>\n",
       "      <th>3P</th>\n",
       "    </tr>\n",
       "  </thead>\n",
       "  <tbody>\n",
       "    <tr>\n",
       "      <th>0</th>\n",
       "      <td>1.013334</td>\n",
       "      <td>0.420714</td>\n",
       "      <td>0.961127</td>\n",
       "      <td>0.673469</td>\n",
       "      <td>0.508587</td>\n",
       "    </tr>\n",
       "    <tr>\n",
       "      <th>1</th>\n",
       "      <td>1.614653</td>\n",
       "      <td>1.028412</td>\n",
       "      <td>1.647646</td>\n",
       "      <td>0.673469</td>\n",
       "      <td>4.577279</td>\n",
       "    </tr>\n",
       "    <tr>\n",
       "      <th>2</th>\n",
       "      <td>0.311795</td>\n",
       "      <td>0.093492</td>\n",
       "      <td>0.274608</td>\n",
       "      <td>1.571429</td>\n",
       "      <td>0.000000</td>\n",
       "    </tr>\n",
       "    <tr>\n",
       "      <th>3</th>\n",
       "      <td>0.200440</td>\n",
       "      <td>0.186984</td>\n",
       "      <td>0.274608</td>\n",
       "      <td>0.000000</td>\n",
       "      <td>0.000000</td>\n",
       "    </tr>\n",
       "    <tr>\n",
       "      <th>4</th>\n",
       "      <td>2.383005</td>\n",
       "      <td>1.636110</td>\n",
       "      <td>1.784950</td>\n",
       "      <td>0.897959</td>\n",
       "      <td>1.525760</td>\n",
       "    </tr>\n",
       "  </tbody>\n",
       "</table>\n",
       "</div>"
      ],
      "text/plain": [
       "        PTS       AST       STL       BLK        3P\n",
       "0  1.013334  0.420714  0.961127  0.673469  0.508587\n",
       "1  1.614653  1.028412  1.647646  0.673469  4.577279\n",
       "2  0.311795  0.093492  0.274608  1.571429  0.000000\n",
       "3  0.200440  0.186984  0.274608  0.000000  0.000000\n",
       "4  2.383005  1.636110  1.784950  0.897959  1.525760"
      ]
     },
     "execution_count": 30,
     "metadata": {},
     "output_type": "execute_result"
    }
   ],
   "source": [
    "stats_ratios = stats[['Year','PTS','AST','STL','BLK','3P']].groupby('Year').transform(lambda x: x/x.mean())\n",
    "stats_ratios.head()"
   ]
  },
  {
   "attachments": {},
   "cell_type": "markdown",
   "metadata": {},
   "source": [
    "Adding the new predictors to the original dataframe & the predictors list."
   ]
  },
  {
   "cell_type": "code",
   "execution_count": 31,
   "metadata": {},
   "outputs": [],
   "source": [
    "stats[['PTS_R','AST_R','STL_R','BLK_R','3P_R']] = stats_ratios[['PTS','AST','STL','BLK','3P']]\n",
    "predictors += ['PTS_R','AST_R','STL_R','BLK_R','3P_R']"
   ]
  },
  {
   "attachments": {},
   "cell_type": "markdown",
   "metadata": {},
   "source": [
    "Backtesting again for performance"
   ]
  },
  {
   "cell_type": "code",
   "execution_count": 32,
   "metadata": {},
   "outputs": [],
   "source": [
    "mean_ap, aps, all_predictions = backtest(stats, reg, years, predictors)"
   ]
  },
  {
   "cell_type": "code",
   "execution_count": 33,
   "metadata": {},
   "outputs": [
    {
     "data": {
      "text/plain": [
       "0.726619022474594"
      ]
     },
     "execution_count": 33,
     "metadata": {},
     "output_type": "execute_result"
    }
   ],
   "source": [
    "mean_ap"
   ]
  },
  {
   "attachments": {},
   "cell_type": "markdown",
   "metadata": {},
   "source": [
    "A bit of an improvement from the previous 0.715."
   ]
  },
  {
   "attachments": {},
   "cell_type": "markdown",
   "metadata": {},
   "source": [
    "### Adding Categorical Variable"
   ]
  },
  {
   "attachments": {},
   "cell_type": "markdown",
   "metadata": {},
   "source": [
    "Position is a categorical variable that cannot be used as is in a regression model."
   ]
  },
  {
   "attachments": {},
   "cell_type": "markdown",
   "metadata": {},
   "source": [
    "Changing it to numerical value, and adding it to the predictors."
   ]
  },
  {
   "cell_type": "code",
   "execution_count": 34,
   "metadata": {},
   "outputs": [],
   "source": [
    "stats['Pos_N'] = stats['Pos'].astype('category').cat.codes"
   ]
  },
  {
   "cell_type": "code",
   "execution_count": 36,
   "metadata": {},
   "outputs": [],
   "source": [
    "predictors += ['Pos_N']"
   ]
  },
  {
   "attachments": {},
   "cell_type": "markdown",
   "metadata": {},
   "source": [
    "### Testing Different Models"
   ]
  },
  {
   "attachments": {},
   "cell_type": "markdown",
   "metadata": {},
   "source": [
    "#### Ridge Regression"
   ]
  },
  {
   "cell_type": "code",
   "execution_count": 37,
   "metadata": {},
   "outputs": [],
   "source": [
    "reg = Ridge(alpha=0.1)\n",
    "ridge_mean_ap, aps, all_predictions = backtest(stats, reg, years, predictors)\n"
   ]
  },
  {
   "cell_type": "code",
   "execution_count": 38,
   "metadata": {},
   "outputs": [
    {
     "data": {
      "text/plain": [
       "0.7262621890226512"
      ]
     },
     "execution_count": 38,
     "metadata": {},
     "output_type": "execute_result"
    }
   ],
   "source": [
    "ridge_mean_ap"
   ]
  },
  {
   "attachments": {},
   "cell_type": "markdown",
   "metadata": {},
   "source": [
    "#### Elastic Net Regression"
   ]
  },
  {
   "cell_type": "code",
   "execution_count": 78,
   "metadata": {},
   "outputs": [],
   "source": [
    "from sklearn.linear_model import ElasticNet\n",
    "\n",
    "elasticnet = ElasticNet(alpha=0.1, l1_ratio=0.5)\n",
    "\n",
    "en_mean_ap, aps, all_predictions = backtest(stats, elasticnet, years, predictors)"
   ]
  },
  {
   "cell_type": "code",
   "execution_count": 79,
   "metadata": {},
   "outputs": [
    {
     "data": {
      "text/plain": [
       "0.7604406358238323"
      ]
     },
     "execution_count": 79,
     "metadata": {},
     "output_type": "execute_result"
    }
   ],
   "source": [
    "en_mean_ap"
   ]
  },
  {
   "attachments": {},
   "cell_type": "markdown",
   "metadata": {},
   "source": [
    "#### Gradient Boosting\n"
   ]
  },
  {
   "cell_type": "code",
   "execution_count": 74,
   "metadata": {},
   "outputs": [],
   "source": [
    "from sklearn.ensemble import GradientBoostingRegressor\n",
    "\n",
    "gb = GradientBoostingRegressor(n_estimators=100, learning_rate=0.1, max_depth=3, random_state=1)\n",
    "\n",
    "gb_mean_ap, aps, all_predictions = backtest(stats, gb, years, predictors)"
   ]
  },
  {
   "cell_type": "code",
   "execution_count": 75,
   "metadata": {},
   "outputs": [
    {
     "data": {
      "text/plain": [
       "0.7188835746997083"
      ]
     },
     "execution_count": 75,
     "metadata": {},
     "output_type": "execute_result"
    }
   ],
   "source": [
    "gb_mean_ap"
   ]
  },
  {
   "attachments": {},
   "cell_type": "markdown",
   "metadata": {},
   "source": [
    "#### Random Forest"
   ]
  },
  {
   "cell_type": "code",
   "execution_count": 76,
   "metadata": {},
   "outputs": [],
   "source": [
    "rf = RandomForestRegressor(n_estimators=100, random_state=1, min_samples_split=5)\n",
    "rf_mean_ap, aps, all_predictions = backtest(stats, rf, years, predictors)"
   ]
  },
  {
   "cell_type": "code",
   "execution_count": 77,
   "metadata": {},
   "outputs": [
    {
     "data": {
      "text/plain": [
       "0.7178318343131725"
      ]
     },
     "execution_count": 77,
     "metadata": {},
     "output_type": "execute_result"
    }
   ],
   "source": [
    "rf_mean_ap"
   ]
  }
 ],
 "metadata": {
  "kernelspec": {
   "display_name": "snowflakes",
   "language": "python",
   "name": "python3"
  },
  "language_info": {
   "codemirror_mode": {
    "name": "ipython",
    "version": 3
   },
   "file_extension": ".py",
   "mimetype": "text/x-python",
   "name": "python",
   "nbconvert_exporter": "python",
   "pygments_lexer": "ipython3",
   "version": "3.11.2"
  },
  "orig_nbformat": 4
 },
 "nbformat": 4,
 "nbformat_minor": 2
}
